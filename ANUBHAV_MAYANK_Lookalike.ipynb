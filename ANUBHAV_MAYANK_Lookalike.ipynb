{
  "nbformat": 4,
  "nbformat_minor": 0,
  "metadata": {
    "colab": {
      "provenance": []
    },
    "kernelspec": {
      "name": "python3",
      "display_name": "Python 3"
    },
    "language_info": {
      "name": "python"
    }
  },
  "cells": [
    {
      "cell_type": "code",
      "execution_count": 6,
      "metadata": {
        "colab": {
          "base_uri": "https://localhost:8080/"
        },
        "id": "fRqDl9e-LhGu",
        "outputId": "0e956f9c-a5d9-4ee4-e5e6-42be63a6b323"
      },
      "outputs": [
        {
          "output_type": "stream",
          "name": "stdout",
          "text": [
            "   cust_id                                         lookalikes\n",
            "0    C0001  [('C0184', 0.9981), ('C0048', 0.9948), ('C0190...\n",
            "1    C0002  [('C0088', 0.9983), ('C0092', 0.9667), ('C0106...\n",
            "2    C0003  [('C0076', 0.9815), ('C0052', 0.9714), ('C0031...\n",
            "3    C0004  [('C0169', 0.9794), ('C0087', 0.9738), ('C0165...\n",
            "4    C0005  [('C0186', 0.9985), ('C0140', 0.9938), ('C0146...\n",
            "5    C0006  [('C0126', 0.9929), ('C0187', 0.9921), ('C0011...\n",
            "6    C0007  [('C0146', 1.0), ('C0115', 0.9921), ('C0005', ...\n",
            "7    C0008  [('C0160', 0.9221), ('C0059', 0.9148), ('C0079...\n",
            "8    C0009  [('C0198', 1.0), ('C0061', 0.9756), ('C0062', ...\n",
            "9    C0010  [('C0062', 0.9768), ('C0111', 0.9742), ('C0103...\n",
            "10   C0011  [('C0006', 0.9875), ('C0137', 0.9804), ('C0126...\n",
            "11   C0012  [('C0163', 0.996), ('C0113', 0.9859), ('C0104'...\n",
            "12   C0013  [('C0099', 0.9875), ('C0108', 0.9764), ('C0107...\n",
            "13   C0014  [('C0060', 0.9995), ('C0089', 0.9278), ('C0172...\n",
            "14   C0015  [('C0131', 0.981), ('C0036', 0.9724), ('C0094'...\n",
            "15   C0016  [('C0183', 0.9936), ('C0067', 0.9735), ('C0098...\n",
            "16   C0017  [('C0041', 0.9706), ('C0075', 0.9546), ('C0057...\n",
            "17   C0018  [('C0122', 0.9958), ('C0046', 0.986), ('C0194'...\n",
            "18   C0019  [('C0073', 0.9972), ('C0167', 0.9781), ('C0132...\n",
            "19   C0020  [('C0157', 0.9395), ('C0050', 0.9188), ('C0035...\n"
          ]
        }
      ],
      "source": [
        "import pandas as pd\n",
        "from sklearn.metrics.pairwise import cosine_similarity\n",
        "from sklearn.preprocessing import StandardScaler\n",
        "\n",
        "\n",
        "customers = pd.read_csv(\"Customers.csv\")\n",
        "products = pd.read_csv(\"Products.csv\")\n",
        "transactions = pd.read_csv(\"Transactions.csv\")\n",
        "\n",
        "\n",
        "customers.columns = customers.columns.str.strip().str.lower()\n",
        "products.columns = products.columns.str.strip().str.lower()\n",
        "transactions.columns = transactions.columns.str.strip().str.lower()\n",
        "\n",
        "\n",
        "data = transactions.merge(customers, on=\"customerid\", how=\"left\")\n",
        "data = data.merge(products, on=\"productid\", how=\"left\")\n",
        "\n",
        "\n",
        "customer_features = data.groupby(\"customerid\").agg({\n",
        "    \"totalvalue\": \"sum\",\n",
        "    \"quantity\": \"sum\",\n",
        "    #\"price\": \"mean\",\n",
        "    \"region\": lambda x: x.mode()[0],\n",
        "    \"category\": lambda x: x.mode()[0]\n",
        "}).reset_index()\n",
        "\n",
        "customer_features = pd.get_dummies(customer_features, columns=[\"region\", \"category\"], drop_first=True)\n",
        "\n",
        "scaler = StandardScaler()\n",
        "scaled_features = scaler.fit_transform(customer_features.drop(\"customerid\", axis=1))\n",
        "\n",
        "similarity_matrix = cosine_similarity(scaled_features)\n",
        "\n",
        "lookalikes = {}\n",
        "for i, customer_id in enumerate(customer_features[\"customerid\"][:20]):\n",
        "    similarity_scores = list(enumerate(similarity_matrix[i]))\n",
        "    similarity_scores = sorted(similarity_scores, key=lambda x: x[1], reverse=True)\n",
        "    top_lookalikes = [\n",
        "        (customer_features[\"customerid\"].iloc[j], round(score, 4))\n",
        "        for j, score in similarity_scores[1:4]  # Skip the first one (self)\n",
        "    ]\n",
        "    lookalikes[customer_id] = top_lookalikes\n",
        "\n",
        "lookalike_df = pd.DataFrame([\n",
        "    {\"cust_id\": cust_id, \"lookalikes\": str(lookalike_list)}\n",
        "    for cust_id, lookalike_list in lookalikes.items()\n",
        "])\n",
        "lookalike_df.to_csv(\"Lookalike.csv\", index=False)\n",
        "\n",
        "\n",
        "print(lookalike_df)\n"
      ]
    }
  ]
}